{
  "nbformat": 4,
  "nbformat_minor": 0,
  "metadata": {
    "colab": {
      "name": "MLP_실습.ipynb",
      "provenance": [],
      "collapsed_sections": [],
      "include_colab_link": true
    },
    "kernelspec": {
      "name": "python3",
      "display_name": "Python 3"
    },
    "accelerator": "GPU"
  },
  "cells": [
    {
      "cell_type": "markdown",
      "metadata": {
        "id": "view-in-github",
        "colab_type": "text"
      },
      "source": [
        "<a href=\"https://colab.research.google.com/github/sunghoByun/TensorflowDeveloperCertificate/blob/main/MLP_%EC%8B%A4%EC%8A%B5.ipynb\" target=\"_parent\"><img src=\"https://colab.research.google.com/assets/colab-badge.svg\" alt=\"Open In Colab\"/></a>"
      ]
    },
    {
      "cell_type": "markdown",
      "metadata": {
        "id": "pgSX3nyA2M4D"
      },
      "source": [
        "# Multi Layer Perceptron 실습\n",
        "\n",
        "앞서 살펴본 예제를 바탕으로, 실제로 코드를 작성하는 실습을 진행합니다."
      ]
    },
    {
      "cell_type": "markdown",
      "metadata": {
        "id": "e_n7CHEf11A8"
      },
      "source": [
        "## 데이터 준비\n",
        "\n",
        "MNIST 데이터셋을 로드합니다.\n",
        "\n",
        "MNIST 데이터셋은 0 ~ 9의 손글씨 숫자를 모은 데이터셋으로, 28x28 크기의 이미지들로 구성되어 있습니다.\n",
        "\n",
        "데이터는 내부적으로 train과 test로 각각 나뉘어 있습니다.\n",
        "\n",
        "데이터를 로드한 후, 0 ~ 255로 된 int 값에서 0 ~ 1의 float 값으로 각 샘플들의 범위를 조정합니다."
      ]
    },
    {
      "cell_type": "code",
      "metadata": {
        "id": "jn_VU22_1yZF",
        "colab": {
          "base_uri": "https://localhost:8080/"
        },
        "outputId": "9cc28329-1738-4d6e-eeb2-47a6c40a4583"
      },
      "source": [
        "import tensorflow as tf\n",
        "\n",
        "mnist = tf.keras.datasets.mnist\n",
        "\n",
        "(x_train, y_train), (x_test, y_test) = mnist.load_data()\n",
        "x_train, x_test = x_train / 255.0, x_test / 255.0"
      ],
      "execution_count": null,
      "outputs": [
        {
          "output_type": "stream",
          "text": [
            "Downloading data from https://storage.googleapis.com/tensorflow/tf-keras-datasets/mnist.npz\n",
            "11493376/11490434 [==============================] - 0s 0us/step\n"
          ],
          "name": "stdout"
        }
      ]
    },
    {
      "cell_type": "markdown",
      "metadata": {
        "id": "78oPLiSFLl9y"
      },
      "source": [
        "## 로드한 데이터 확인\n",
        "\n",
        "로드한 데이터의 형태를 확인해봅니다.\n",
        "\n",
        "x_train은 (60000, 28, 28)의 shape를 가지는 numpy array입니다.\n",
        "\n",
        "즉, 28 x 28 크기의 이미지 6만장입니다.\n",
        "\n",
        "y_train은 (60000,)의 shape를 가지는 numpy array입니다.\n",
        "\n",
        "실제 값을 보면, 0 ~ 9 의 label을 나타냄을 알 수 있습니다."
      ]
    },
    {
      "cell_type": "code",
      "metadata": {
        "id": "-qZqnO3XLeNU",
        "colab": {
          "base_uri": "https://localhost:8080/"
        },
        "outputId": "8ca00c37-7104-4334-ba4a-b186c3ceeaba"
      },
      "source": [
        "print(type(x_train))\n",
        "print(x_train.shape)\n",
        "print(type(y_train))\n",
        "print(y_train.shape)\n",
        "print(y_train[:20])"
      ],
      "execution_count": null,
      "outputs": [
        {
          "output_type": "stream",
          "text": [
            "<class 'numpy.ndarray'>\n",
            "(60000, 28, 28)\n",
            "<class 'numpy.ndarray'>\n",
            "(60000,)\n",
            "[5 0 4 1 9 2 1 3 1 4 3 5 3 6 1 7 2 8 6 9]\n"
          ],
          "name": "stdout"
        }
      ]
    },
    {
      "cell_type": "markdown",
      "metadata": {
        "id": "gIr1rXZp2ymI"
      },
      "source": [
        "## **MISSION: 네트워크 정의 및 학습**\n",
        "\n",
        "##**※ 실제 시험 문제가 이와 같은 형태로 출제됩니다.**\n",
        "\n",
        "아래 빈 칸을 채워서 네트워크를 정의해봅시다.\n",
        "\n",
        "<br>\n",
        "\n",
        "MNIST 데이터의 경우 28 x 28의 형태를 가지는 2차원 배열입니다.\n",
        "\n",
        "이를 Multi Layer Perceptron에 입력으로 전달하기 위해서는 1차원 배열으로 변환할 필요가 있습니다.\n",
        "\n",
        "이러한 작업을 해주는 layer가 Flatten입니다.\n",
        "\n",
        "이름 그대로 데이터를 1차원으로 펼쳐주는 역할을 합니다.\n",
        "\n",
        "이 Flatten layer가 tf.keras.models.Sequential의 첫 번째 layer이므로 앞의 iris 실습과 마찬가지로 input_shape를 지정해주어야 합니다.\n",
        "\n",
        "<br>\n",
        "\n",
        "##**작성할 코드**\n",
        "\n",
        "Flatten layer 이후에 layer를 추가해서 네트워크를 완성시키고,\n",
        "\n",
        "학습 설정 및 학습 진행 부분을 작성해봅시다.\n",
        "\n",
        "학습은 위에서 정의한 x_train, y_train 으로 진행합니다."
      ]
    },
    {
      "cell_type": "code",
      "metadata": {
        "id": "VImHxICX2jHD",
        "colab": {
          "base_uri": "https://localhost:8080/"
        },
        "outputId": "0c461ff5-0086-400b-eb3e-637ab0fec759"
      },
      "source": [
        "model = tf.keras.models.Sequential([\n",
        "  tf.keras.layers.Flatten(input_shape=(28, 28)),\n",
        "  tf.keras.layers.Dense(784,activation='relu'),\n",
        "  tf.keras.layers.Dropout(0.3),\n",
        "  tf.keras.layers.Dense(64, activation='relu'),\n",
        "  tf.keras.layers.Dense(10, activation= 'softmax')\n",
        "  ### TODO: Add Layers ###\n",
        "])\n",
        "model.summary()\n",
        "### TODO: Train Model ###"
      ],
      "execution_count": null,
      "outputs": [
        {
          "output_type": "stream",
          "text": [
            "Model: \"sequential_2\"\n",
            "_________________________________________________________________\n",
            "Layer (type)                 Output Shape              Param #   \n",
            "=================================================================\n",
            "flatten_2 (Flatten)          (None, 784)               0         \n",
            "_________________________________________________________________\n",
            "dense (Dense)                (None, 784)               615440    \n",
            "_________________________________________________________________\n",
            "dropout (Dropout)            (None, 784)               0         \n",
            "_________________________________________________________________\n",
            "dense_1 (Dense)              (None, 64)                50240     \n",
            "_________________________________________________________________\n",
            "dense_2 (Dense)              (None, 10)                650       \n",
            "=================================================================\n",
            "Total params: 666,330\n",
            "Trainable params: 666,330\n",
            "Non-trainable params: 0\n",
            "_________________________________________________________________\n"
          ],
          "name": "stdout"
        }
      ]
    },
    {
      "cell_type": "code",
      "metadata": {
        "colab": {
          "base_uri": "https://localhost:8080/"
        },
        "id": "dgRbyk978ggL",
        "outputId": "d926f1f4-6f89-4067-9378-bbae1e0c30c4"
      },
      "source": [
        "model.compile(\n",
        "    optimizer = 'adam',\n",
        "    loss = tf.keras.losses.sparse_categorical_crossentropy,\n",
        "    metrics = ['accuracy']\n",
        ")\n",
        "model.fit(x_train,y_train,batch_size = 1000, epochs = 20)"
      ],
      "execution_count": null,
      "outputs": [
        {
          "output_type": "stream",
          "text": [
            "Epoch 1/20\n",
            "60/60 [==============================] - 3s 5ms/step - loss: 0.9416 - accuracy: 0.7214\n",
            "Epoch 2/20\n",
            "60/60 [==============================] - 0s 4ms/step - loss: 0.2089 - accuracy: 0.9408\n",
            "Epoch 3/20\n",
            "60/60 [==============================] - 0s 4ms/step - loss: 0.1360 - accuracy: 0.9607\n",
            "Epoch 4/20\n",
            "60/60 [==============================] - 0s 4ms/step - loss: 0.1129 - accuracy: 0.9669\n",
            "Epoch 5/20\n",
            "60/60 [==============================] - 0s 4ms/step - loss: 0.0891 - accuracy: 0.9733\n",
            "Epoch 6/20\n",
            "60/60 [==============================] - 0s 4ms/step - loss: 0.0723 - accuracy: 0.9785\n",
            "Epoch 7/20\n",
            "60/60 [==============================] - 0s 4ms/step - loss: 0.0608 - accuracy: 0.9817\n",
            "Epoch 8/20\n",
            "60/60 [==============================] - 0s 4ms/step - loss: 0.0520 - accuracy: 0.9856\n",
            "Epoch 9/20\n",
            "60/60 [==============================] - 0s 4ms/step - loss: 0.0429 - accuracy: 0.9875\n",
            "Epoch 10/20\n",
            "60/60 [==============================] - 0s 4ms/step - loss: 0.0362 - accuracy: 0.9896\n",
            "Epoch 11/20\n",
            "60/60 [==============================] - 0s 4ms/step - loss: 0.0331 - accuracy: 0.9906\n",
            "Epoch 12/20\n",
            "60/60 [==============================] - 0s 4ms/step - loss: 0.0282 - accuracy: 0.9920\n",
            "Epoch 13/20\n",
            "60/60 [==============================] - 0s 4ms/step - loss: 0.0267 - accuracy: 0.9924\n",
            "Epoch 14/20\n",
            "60/60 [==============================] - 0s 4ms/step - loss: 0.0232 - accuracy: 0.9932\n",
            "Epoch 15/20\n",
            "60/60 [==============================] - 0s 4ms/step - loss: 0.0209 - accuracy: 0.9938\n",
            "Epoch 16/20\n",
            "60/60 [==============================] - 0s 4ms/step - loss: 0.0178 - accuracy: 0.9949\n",
            "Epoch 17/20\n",
            "60/60 [==============================] - 0s 4ms/step - loss: 0.0155 - accuracy: 0.9958\n",
            "Epoch 18/20\n",
            "60/60 [==============================] - 0s 4ms/step - loss: 0.0147 - accuracy: 0.9959\n",
            "Epoch 19/20\n",
            "60/60 [==============================] - 0s 4ms/step - loss: 0.0139 - accuracy: 0.9961\n",
            "Epoch 20/20\n",
            "60/60 [==============================] - 0s 4ms/step - loss: 0.0118 - accuracy: 0.9972\n"
          ],
          "name": "stdout"
        },
        {
          "output_type": "execute_result",
          "data": {
            "text/plain": [
              "<tensorflow.python.keras.callbacks.History at 0x7ff150c383d0>"
            ]
          },
          "metadata": {
            "tags": []
          },
          "execution_count": 6
        }
      ]
    },
    {
      "cell_type": "code",
      "metadata": {
        "id": "WjyJTpFu9NOh"
      },
      "source": [
        ""
      ],
      "execution_count": null,
      "outputs": []
    },
    {
      "cell_type": "markdown",
      "metadata": {
        "id": "nlesfCRINh9A"
      },
      "source": [
        "## 모델 평가\n",
        "\n",
        "evaluate 함수에 평가용 데이터와 label을 전달하여 평가를 진행합니다.\n",
        "\n",
        "Loss와 accuracy가 표시됩니다.\n",
        "\n",
        "위 실습을 정상적으로 완성했다면, 90% 이상의 정확도를 보일 것입니다."
      ]
    },
    {
      "cell_type": "code",
      "metadata": {
        "id": "OjPom7Y1KTV5",
        "colab": {
          "base_uri": "https://localhost:8080/"
        },
        "outputId": "6bf5d128-ff90-45de-da89-edfdca360518"
      },
      "source": [
        "model.evaluate(x_test,  y_test)"
      ],
      "execution_count": null,
      "outputs": [
        {
          "output_type": "stream",
          "text": [
            "313/313 [==============================] - 1s 2ms/step - loss: 0.0570 - accuracy: 0.9830\n"
          ],
          "name": "stdout"
        },
        {
          "output_type": "execute_result",
          "data": {
            "text/plain": [
              "[0.05701649934053421, 0.9829999804496765]"
            ]
          },
          "metadata": {
            "tags": []
          },
          "execution_count": 7
        }
      ]
    },
    {
      "cell_type": "code",
      "metadata": {
        "id": "sYYwpxTz9QWX"
      },
      "source": [
        "\n"
      ],
      "execution_count": null,
      "outputs": []
    }
  ]
}